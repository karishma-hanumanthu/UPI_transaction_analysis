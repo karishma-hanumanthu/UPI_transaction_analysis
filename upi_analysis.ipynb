{
 "cells": [
  {
   "cell_type": "code",
   "execution_count": 48,
   "id": "3b0b2b77",
   "metadata": {},
   "outputs": [],
   "source": [
    "import pandas as pd\n",
    "\n"
   ]
  },
  {
   "cell_type": "code",
   "execution_count": 49,
   "id": "6b95dfff",
   "metadata": {},
   "outputs": [],
   "source": [
    "df=pd.read_csv('upi_transactions_2024.csv')"
   ]
  },
  {
   "cell_type": "code",
   "execution_count": 50,
   "id": "d3587864",
   "metadata": {},
   "outputs": [
    {
     "data": {
      "text/html": [
       "<div>\n",
       "<style scoped>\n",
       "    .dataframe tbody tr th:only-of-type {\n",
       "        vertical-align: middle;\n",
       "    }\n",
       "\n",
       "    .dataframe tbody tr th {\n",
       "        vertical-align: top;\n",
       "    }\n",
       "\n",
       "    .dataframe thead th {\n",
       "        text-align: right;\n",
       "    }\n",
       "</style>\n",
       "<table border=\"1\" class=\"dataframe\">\n",
       "  <thead>\n",
       "    <tr style=\"text-align: right;\">\n",
       "      <th></th>\n",
       "      <th>transaction id</th>\n",
       "      <th>timestamp</th>\n",
       "      <th>transaction type</th>\n",
       "      <th>merchant_category</th>\n",
       "      <th>amount (INR)</th>\n",
       "      <th>transaction_status</th>\n",
       "      <th>sender_age_group</th>\n",
       "      <th>receiver_age_group</th>\n",
       "      <th>sender_state</th>\n",
       "      <th>sender_bank</th>\n",
       "      <th>receiver_bank</th>\n",
       "      <th>device_type</th>\n",
       "      <th>network_type</th>\n",
       "      <th>fraud_flag</th>\n",
       "      <th>hour_of_day</th>\n",
       "      <th>day_of_week</th>\n",
       "      <th>is_weekend</th>\n",
       "    </tr>\n",
       "  </thead>\n",
       "  <tbody>\n",
       "    <tr>\n",
       "      <th>0</th>\n",
       "      <td>TXN0000000001</td>\n",
       "      <td>2024-10-08 15:17:28</td>\n",
       "      <td>P2P</td>\n",
       "      <td>Entertainment</td>\n",
       "      <td>868</td>\n",
       "      <td>SUCCESS</td>\n",
       "      <td>26-35</td>\n",
       "      <td>18-25</td>\n",
       "      <td>Delhi</td>\n",
       "      <td>Axis</td>\n",
       "      <td>SBI</td>\n",
       "      <td>Android</td>\n",
       "      <td>4G</td>\n",
       "      <td>0</td>\n",
       "      <td>15</td>\n",
       "      <td>Tuesday</td>\n",
       "      <td>0</td>\n",
       "    </tr>\n",
       "    <tr>\n",
       "      <th>1</th>\n",
       "      <td>TXN0000000002</td>\n",
       "      <td>2024-04-11 06:56:00</td>\n",
       "      <td>P2M</td>\n",
       "      <td>Grocery</td>\n",
       "      <td>1011</td>\n",
       "      <td>SUCCESS</td>\n",
       "      <td>26-35</td>\n",
       "      <td>26-35</td>\n",
       "      <td>Uttar Pradesh</td>\n",
       "      <td>ICICI</td>\n",
       "      <td>Axis</td>\n",
       "      <td>iOS</td>\n",
       "      <td>4G</td>\n",
       "      <td>0</td>\n",
       "      <td>6</td>\n",
       "      <td>Thursday</td>\n",
       "      <td>0</td>\n",
       "    </tr>\n",
       "    <tr>\n",
       "      <th>2</th>\n",
       "      <td>TXN0000000003</td>\n",
       "      <td>2024-04-02 13:27:18</td>\n",
       "      <td>P2P</td>\n",
       "      <td>Grocery</td>\n",
       "      <td>477</td>\n",
       "      <td>SUCCESS</td>\n",
       "      <td>26-35</td>\n",
       "      <td>36-45</td>\n",
       "      <td>Karnataka</td>\n",
       "      <td>Yes Bank</td>\n",
       "      <td>PNB</td>\n",
       "      <td>Android</td>\n",
       "      <td>4G</td>\n",
       "      <td>0</td>\n",
       "      <td>13</td>\n",
       "      <td>Tuesday</td>\n",
       "      <td>0</td>\n",
       "    </tr>\n",
       "    <tr>\n",
       "      <th>3</th>\n",
       "      <td>TXN0000000004</td>\n",
       "      <td>2024-01-07 10:09:17</td>\n",
       "      <td>P2P</td>\n",
       "      <td>Fuel</td>\n",
       "      <td>2784</td>\n",
       "      <td>SUCCESS</td>\n",
       "      <td>26-35</td>\n",
       "      <td>26-35</td>\n",
       "      <td>Delhi</td>\n",
       "      <td>ICICI</td>\n",
       "      <td>PNB</td>\n",
       "      <td>Android</td>\n",
       "      <td>5G</td>\n",
       "      <td>0</td>\n",
       "      <td>10</td>\n",
       "      <td>Sunday</td>\n",
       "      <td>1</td>\n",
       "    </tr>\n",
       "    <tr>\n",
       "      <th>4</th>\n",
       "      <td>TXN0000000005</td>\n",
       "      <td>2024-01-23 19:04:23</td>\n",
       "      <td>P2P</td>\n",
       "      <td>Shopping</td>\n",
       "      <td>990</td>\n",
       "      <td>SUCCESS</td>\n",
       "      <td>26-35</td>\n",
       "      <td>18-25</td>\n",
       "      <td>Delhi</td>\n",
       "      <td>Axis</td>\n",
       "      <td>Yes Bank</td>\n",
       "      <td>iOS</td>\n",
       "      <td>WiFi</td>\n",
       "      <td>0</td>\n",
       "      <td>19</td>\n",
       "      <td>Tuesday</td>\n",
       "      <td>0</td>\n",
       "    </tr>\n",
       "  </tbody>\n",
       "</table>\n",
       "</div>"
      ],
      "text/plain": [
       "  transaction id            timestamp transaction type merchant_category  \\\n",
       "0  TXN0000000001  2024-10-08 15:17:28              P2P     Entertainment   \n",
       "1  TXN0000000002  2024-04-11 06:56:00              P2M           Grocery   \n",
       "2  TXN0000000003  2024-04-02 13:27:18              P2P           Grocery   \n",
       "3  TXN0000000004  2024-01-07 10:09:17              P2P              Fuel   \n",
       "4  TXN0000000005  2024-01-23 19:04:23              P2P          Shopping   \n",
       "\n",
       "   amount (INR) transaction_status sender_age_group receiver_age_group  \\\n",
       "0           868            SUCCESS            26-35              18-25   \n",
       "1          1011            SUCCESS            26-35              26-35   \n",
       "2           477            SUCCESS            26-35              36-45   \n",
       "3          2784            SUCCESS            26-35              26-35   \n",
       "4           990            SUCCESS            26-35              18-25   \n",
       "\n",
       "    sender_state sender_bank receiver_bank device_type network_type  \\\n",
       "0          Delhi        Axis           SBI     Android           4G   \n",
       "1  Uttar Pradesh       ICICI          Axis         iOS           4G   \n",
       "2      Karnataka    Yes Bank           PNB     Android           4G   \n",
       "3          Delhi       ICICI           PNB     Android           5G   \n",
       "4          Delhi        Axis      Yes Bank         iOS         WiFi   \n",
       "\n",
       "   fraud_flag  hour_of_day day_of_week  is_weekend  \n",
       "0           0           15     Tuesday           0  \n",
       "1           0            6    Thursday           0  \n",
       "2           0           13     Tuesday           0  \n",
       "3           0           10      Sunday           1  \n",
       "4           0           19     Tuesday           0  "
      ]
     },
     "execution_count": 50,
     "metadata": {},
     "output_type": "execute_result"
    }
   ],
   "source": [
    "df.head()"
   ]
  },
  {
   "cell_type": "code",
   "execution_count": 51,
   "id": "fe8fb086",
   "metadata": {},
   "outputs": [
    {
     "data": {
      "text/plain": [
       "(250000, 17)"
      ]
     },
     "execution_count": 51,
     "metadata": {},
     "output_type": "execute_result"
    }
   ],
   "source": [
    "df.shape"
   ]
  },
  {
   "cell_type": "code",
   "execution_count": 52,
   "id": "200bfbc0",
   "metadata": {},
   "outputs": [
    {
     "name": "stdout",
     "output_type": "stream",
     "text": [
      "<class 'pandas.core.frame.DataFrame'>\n",
      "RangeIndex: 250000 entries, 0 to 249999\n",
      "Data columns (total 17 columns):\n",
      " #   Column              Non-Null Count   Dtype \n",
      "---  ------              --------------   ----- \n",
      " 0   transaction id      250000 non-null  object\n",
      " 1   timestamp           250000 non-null  object\n",
      " 2   transaction type    250000 non-null  object\n",
      " 3   merchant_category   250000 non-null  object\n",
      " 4   amount (INR)        250000 non-null  int64 \n",
      " 5   transaction_status  250000 non-null  object\n",
      " 6   sender_age_group    250000 non-null  object\n",
      " 7   receiver_age_group  250000 non-null  object\n",
      " 8   sender_state        250000 non-null  object\n",
      " 9   sender_bank         250000 non-null  object\n",
      " 10  receiver_bank       250000 non-null  object\n",
      " 11  device_type         250000 non-null  object\n",
      " 12  network_type        250000 non-null  object\n",
      " 13  fraud_flag          250000 non-null  int64 \n",
      " 14  hour_of_day         250000 non-null  int64 \n",
      " 15  day_of_week         250000 non-null  object\n",
      " 16  is_weekend          250000 non-null  int64 \n",
      "dtypes: int64(4), object(13)\n",
      "memory usage: 32.4+ MB\n"
     ]
    }
   ],
   "source": [
    "df.info()"
   ]
  },
  {
   "cell_type": "code",
   "execution_count": 53,
   "id": "1a786e21",
   "metadata": {},
   "outputs": [
    {
     "data": {
      "text/plain": [
       "transaction id        0\n",
       "timestamp             0\n",
       "transaction type      0\n",
       "merchant_category     0\n",
       "amount (INR)          0\n",
       "transaction_status    0\n",
       "sender_age_group      0\n",
       "receiver_age_group    0\n",
       "sender_state          0\n",
       "sender_bank           0\n",
       "receiver_bank         0\n",
       "device_type           0\n",
       "network_type          0\n",
       "fraud_flag            0\n",
       "hour_of_day           0\n",
       "day_of_week           0\n",
       "is_weekend            0\n",
       "dtype: int64"
      ]
     },
     "execution_count": 53,
     "metadata": {},
     "output_type": "execute_result"
    }
   ],
   "source": [
    "df.isnull().sum()"
   ]
  },
  {
   "cell_type": "code",
   "execution_count": 54,
   "id": "6b1711d6",
   "metadata": {},
   "outputs": [],
   "source": [
    "df.columns=df.columns.str.strip().str.lower().str.replace(' ','_')"
   ]
  },
  {
   "cell_type": "code",
   "execution_count": 55,
   "id": "dcb1dbc1",
   "metadata": {},
   "outputs": [
    {
     "data": {
      "text/html": [
       "<div>\n",
       "<style scoped>\n",
       "    .dataframe tbody tr th:only-of-type {\n",
       "        vertical-align: middle;\n",
       "    }\n",
       "\n",
       "    .dataframe tbody tr th {\n",
       "        vertical-align: top;\n",
       "    }\n",
       "\n",
       "    .dataframe thead th {\n",
       "        text-align: right;\n",
       "    }\n",
       "</style>\n",
       "<table border=\"1\" class=\"dataframe\">\n",
       "  <thead>\n",
       "    <tr style=\"text-align: right;\">\n",
       "      <th></th>\n",
       "      <th>amount_(inr)</th>\n",
       "      <th>fraud_flag</th>\n",
       "      <th>hour_of_day</th>\n",
       "      <th>is_weekend</th>\n",
       "    </tr>\n",
       "  </thead>\n",
       "  <tbody>\n",
       "    <tr>\n",
       "      <th>count</th>\n",
       "      <td>250000.000000</td>\n",
       "      <td>250000.000000</td>\n",
       "      <td>250000.000000</td>\n",
       "      <td>250000.000000</td>\n",
       "    </tr>\n",
       "    <tr>\n",
       "      <th>mean</th>\n",
       "      <td>1311.756036</td>\n",
       "      <td>0.001920</td>\n",
       "      <td>14.681032</td>\n",
       "      <td>0.285348</td>\n",
       "    </tr>\n",
       "    <tr>\n",
       "      <th>std</th>\n",
       "      <td>1848.059224</td>\n",
       "      <td>0.043776</td>\n",
       "      <td>5.188304</td>\n",
       "      <td>0.451581</td>\n",
       "    </tr>\n",
       "    <tr>\n",
       "      <th>min</th>\n",
       "      <td>10.000000</td>\n",
       "      <td>0.000000</td>\n",
       "      <td>0.000000</td>\n",
       "      <td>0.000000</td>\n",
       "    </tr>\n",
       "    <tr>\n",
       "      <th>25%</th>\n",
       "      <td>288.000000</td>\n",
       "      <td>0.000000</td>\n",
       "      <td>11.000000</td>\n",
       "      <td>0.000000</td>\n",
       "    </tr>\n",
       "    <tr>\n",
       "      <th>50%</th>\n",
       "      <td>629.000000</td>\n",
       "      <td>0.000000</td>\n",
       "      <td>15.000000</td>\n",
       "      <td>0.000000</td>\n",
       "    </tr>\n",
       "    <tr>\n",
       "      <th>75%</th>\n",
       "      <td>1596.000000</td>\n",
       "      <td>0.000000</td>\n",
       "      <td>19.000000</td>\n",
       "      <td>1.000000</td>\n",
       "    </tr>\n",
       "    <tr>\n",
       "      <th>max</th>\n",
       "      <td>42099.000000</td>\n",
       "      <td>1.000000</td>\n",
       "      <td>23.000000</td>\n",
       "      <td>1.000000</td>\n",
       "    </tr>\n",
       "  </tbody>\n",
       "</table>\n",
       "</div>"
      ],
      "text/plain": [
       "        amount_(inr)     fraud_flag    hour_of_day     is_weekend\n",
       "count  250000.000000  250000.000000  250000.000000  250000.000000\n",
       "mean     1311.756036       0.001920      14.681032       0.285348\n",
       "std      1848.059224       0.043776       5.188304       0.451581\n",
       "min        10.000000       0.000000       0.000000       0.000000\n",
       "25%       288.000000       0.000000      11.000000       0.000000\n",
       "50%       629.000000       0.000000      15.000000       0.000000\n",
       "75%      1596.000000       0.000000      19.000000       1.000000\n",
       "max     42099.000000       1.000000      23.000000       1.000000"
      ]
     },
     "execution_count": 55,
     "metadata": {},
     "output_type": "execute_result"
    }
   ],
   "source": [
    "df.describe()"
   ]
  },
  {
   "cell_type": "code",
   "execution_count": 56,
   "id": "d19163f6",
   "metadata": {},
   "outputs": [
    {
     "data": {
      "text/plain": [
       "Index(['transaction_id', 'timestamp', 'transaction_type', 'merchant_category',\n",
       "       'amount_(inr)', 'transaction_status', 'sender_age_group',\n",
       "       'receiver_age_group', 'sender_state', 'sender_bank', 'receiver_bank',\n",
       "       'device_type', 'network_type', 'fraud_flag', 'hour_of_day',\n",
       "       'day_of_week', 'is_weekend'],\n",
       "      dtype='object')"
      ]
     },
     "execution_count": 56,
     "metadata": {},
     "output_type": "execute_result"
    }
   ],
   "source": [
    "df.columns"
   ]
  },
  {
   "cell_type": "code",
   "execution_count": 57,
   "id": "d3cd2399",
   "metadata": {},
   "outputs": [],
   "source": [
    "df.drop(columns=['hour_of_day','is_weekend'],inplace=True)"
   ]
  },
  {
   "cell_type": "code",
   "execution_count": 58,
   "id": "f0415ee4",
   "metadata": {},
   "outputs": [],
   "source": [
    "df.rename(columns={'amount_(inr)':'amount_inr'},inplace=True)"
   ]
  },
  {
   "cell_type": "code",
   "execution_count": 59,
   "id": "bf2e9cf0",
   "metadata": {},
   "outputs": [],
   "source": [
    "df['timestamp']=pd.to_datetime(df['timestamp'],format='%Y-%m-%d %H:%M:%S')"
   ]
  },
  {
   "cell_type": "code",
   "execution_count": 60,
   "id": "afdeff80",
   "metadata": {},
   "outputs": [
    {
     "data": {
      "text/plain": [
       "transaction_id                object\n",
       "timestamp             datetime64[ns]\n",
       "transaction_type              object\n",
       "merchant_category             object\n",
       "amount_inr                     int64\n",
       "transaction_status            object\n",
       "sender_age_group              object\n",
       "receiver_age_group            object\n",
       "sender_state                  object\n",
       "sender_bank                   object\n",
       "receiver_bank                 object\n",
       "device_type                   object\n",
       "network_type                  object\n",
       "fraud_flag                     int64\n",
       "day_of_week                   object\n",
       "dtype: object"
      ]
     },
     "execution_count": 60,
     "metadata": {},
     "output_type": "execute_result"
    }
   ],
   "source": [
    "df.dtypes"
   ]
  },
  {
   "cell_type": "code",
   "execution_count": 61,
   "id": "e54390c8",
   "metadata": {},
   "outputs": [
    {
     "name": "stderr",
     "output_type": "stream",
     "text": [
      "<>:2: SyntaxWarning: invalid escape sequence '\\S'\n",
      "<>:2: SyntaxWarning: invalid escape sequence '\\S'\n",
      "C:\\Users\\karis\\AppData\\Local\\Temp\\ipykernel_30040\\2659578623.py:2: SyntaxWarning: invalid escape sequence '\\S'\n",
      "  engine = sal.create_engine('mssql://KARISHMA\\SQLEXPRESS/master?driver=ODBC+Driver+17+for+SQL+Server')\n"
     ]
    }
   ],
   "source": [
    "import sqlalchemy as sal\n",
    "engine = sal.create_engine('mssql://KARISHMA\\SQLEXPRESS/master?driver=ODBC+Driver+17+for+SQL+Server')\n",
    "conn=engine.connect()"
   ]
  },
  {
   "cell_type": "code",
   "execution_count": 64,
   "id": "452d6b16",
   "metadata": {},
   "outputs": [
    {
     "data": {
      "text/plain": [
       "78"
      ]
     },
     "execution_count": 64,
     "metadata": {},
     "output_type": "execute_result"
    }
   ],
   "source": [
    "df.to_sql('upi_transactions',con=conn,if_exists='append',index=False)"
   ]
  },
  {
   "cell_type": "code",
   "execution_count": 63,
   "id": "e71cc713",
   "metadata": {},
   "outputs": [
    {
     "data": {
      "text/plain": [
       "Index(['transaction_id', 'timestamp', 'transaction_type', 'merchant_category',\n",
       "       'amount_inr', 'transaction_status', 'sender_age_group',\n",
       "       'receiver_age_group', 'sender_state', 'sender_bank', 'receiver_bank',\n",
       "       'device_type', 'network_type', 'fraud_flag', 'day_of_week'],\n",
       "      dtype='object')"
      ]
     },
     "execution_count": 63,
     "metadata": {},
     "output_type": "execute_result"
    }
   ],
   "source": [
    "df.columns"
   ]
  }
 ],
 "metadata": {
  "kernelspec": {
   "display_name": "Python 3",
   "language": "python",
   "name": "python3"
  },
  "language_info": {
   "codemirror_mode": {
    "name": "ipython",
    "version": 3
   },
   "file_extension": ".py",
   "mimetype": "text/x-python",
   "name": "python",
   "nbconvert_exporter": "python",
   "pygments_lexer": "ipython3",
   "version": "3.12.5"
  }
 },
 "nbformat": 4,
 "nbformat_minor": 5
}
